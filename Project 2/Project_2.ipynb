{
  "nbformat": 4,
  "nbformat_minor": 0,
  "metadata": {
    "colab": {
      "name": "Optimal Strategy PIG.ipynb",
      "provenance": [],
      "collapsed_sections": []
    },
    "kernelspec": {
      "name": "python3",
      "display_name": "Python 3"
    },
    "language_info": {
      "name": "python"
    },
    "accelerator": "GPU"
  },
  "cells": [
    {
      "cell_type": "code",
      "execution_count": null,
      "metadata": {
        "id": "FrsX7ycVxemp"
      },
      "outputs": [],
      "source": [
        "#Import packages. Feel free to add any others you might use!\n",
        "import itertools\n",
        "import jax.numpy as jnp\n",
        "import matplotlib.pyplot as plt\n",
        "from jax import random as jrandom\n",
        "from jax import nn as jnn\n",
        "import numpy as np\n",
        "import random\n",
        "import time\n",
        "import math"
      ]
    },
    {
      "cell_type": "markdown",
      "source": [
        "# Project 2\n",
        "#### Markov Decision Processes and Reinforcement Learning (MATH 4060)\n",
        "\n",
        "In this project we find the optimal strategy of the game *Pig* against an optimal player using value iteration, and against a specific player using SARSA."
      ],
      "metadata": {
        "id": "HUfBH_ZEXKgE"
      }
    },
    {
      "cell_type": "markdown",
      "source": [
        "# Problem 1 - Optimal Strategy in 2 Player Pig"
      ],
      "metadata": {
        "id": "t8YlcbPP_W97"
      }
    },
    {
      "cell_type": "markdown",
      "source": [
        "## 1a Solution\n",
        "\n",
        "Consider the state space where $\\mathcal{S} = \\{(r, n, m, p_i) : r, n, m\\in\\mathbb{N}, i\\in[1, 2]\\}$. Where $p_i$ is the **current player**, $r$ is the amount of spaces the runner has advanced, $n$ is **player 1**'s distance from the target, $m$ is **player 2**'s distance from the target, and $k$ is the **current player**'s runner location. In two player Pig the player's only have two actions. The player can either **roll** or **stay**, so $\\mathcal{A} = \\{\\text{roll}, \\text{stay}\\}$. The player will only receive a reward when the player chooses the **stay**. So our reward space will be\n",
        "\n",
        "\\begin{align*}\n",
        "  \\mathcal{R_t} =\n",
        "  \\begin{cases}\n",
        "    1, \\text{if win} \\\\\n",
        "    0, \\text{if lose} \\\\\n",
        "  \\end{cases}\n",
        "\\end{align*}\n",
        "\n",
        "Let $d$ be a random number in the interval $[1, 6]$, each number has probability $\\frac{1}{6}$ of appearing. The state transition probability for player one are given by the following:\n",
        "\n",
        "\\begin{align}\n",
        "  \\text{From } (r, n, m, p_1) \\text{ with } p_1 \\text{ rolling } & \\rightarrow\n",
        "  \\begin{cases}\n",
        "    (r + d, n, m, p_1) &\\text{ if $d \\gt 1$ } \\\\\n",
        "    (0, n, m, p_2) &\\text{ if $d = 1$ } \\\\\n",
        "  \\end{cases} \\\\\n",
        "  \\text{From } (r, n, m, p_1) \\text{ with } p_1 \\text{ staying } & \\rightarrow (0,n-r,m, p_2) \\text{ with probability 1}\n",
        "\\end{align}\n",
        "\n",
        "And the state transition probability for player two are given by the following:\n",
        "\\begin{align}\n",
        "  \\text{From } (r, n, m, p_2) \\text{ with } p_2 \\text{ rolling }& \\rightarrow\n",
        "  \\begin{cases}\n",
        "    (r + d, n, m, p_2) &\\text{ if $d \\gt 1$ } \\\\\n",
        "    (0, n, m, p_1) &\\text{ if $d = 1$ } \\\\\n",
        "  \\end{cases} \\\\\n",
        "  \\text{From } (r, n, m, p_2) \\text{ with } p_2 \\text{ staying } & \\rightarrow (0,n,m-r, p_1) \\text{ with probability 1}\n",
        "\\end{align}\n",
        "\n",
        "The game starts in state $(0, n, m, p_1)$ with $n = m = N_{max}$ where $N_{max}$ is the **target score**. Note that player's win when the distance to the **target score** is less than or equal to $0$. Therefore, the following states are terminal states:\n",
        "\n",
        "\\begin{align}\n",
        "  (0, 0, m, p_2), \\forall m > 0 \\iff \\text{player 1 wins}\\\\\n",
        "  (0, n, 0, p_1), \\forall n > 0 \\iff \\text{player 2 wins}\n",
        "\\end{align}\n",
        "\n",
        "**Note:** The state $(0, 0, 0, p_i)$ will never be reached since both players can't win."
      ],
      "metadata": {
        "id": "9HdtXVUh-YoL"
      }
    },
    {
      "cell_type": "markdown",
      "source": [
        "## 1b Solution\n",
        "\n",
        "If both players are playing optimally in a 2 player game of *Pig*, and $p$ is the probability that **player 1** will win the game. Then, the probability that **player 2** will win the game is $1-p$. We can utilize this symmetry to simplify our state space. Rather than thinking about **player 1** and **player 2** we can think about **current player** and **opponent**. Then our state space simplifies to $\\mathcal{S} = \\{(r,n,m) : r,n,m\\in [0, N_{max}]\\}$. Where $r$ is the amount of spaces the runner has advances, $n$ is the **current player**'s distance from the target, $m$ is the **opponent**'s distance from the target and $N_{max}$ is the maximum distance from the target. Now, rather than switching between **player 1** and **player 2** we can instead just switch $n$ and $m$. **Note** that this only works because both player's are playing optimally. In other words, if player's are in the same state (with $n$ and $m$ switched) their decisions should be identical.\n",
        "\n",
        "The rewards will be the same as before.\n",
        "\n",
        "Let $d$ be a random number in the interval $[1, 6]$, each number has probability $\\frac{1}{6}$ of appearing. Then, the transition probabilities are as follows:\n",
        "\n",
        "\\begin{align}\n",
        "  \\text{From } (r, n, m) \\text{ with rolling } & \\rightarrow\n",
        "  \\begin{cases}\n",
        "    (r + d, n, m) &\\text{ if } d \\gt 1\\\\\n",
        "    (0, m, n) &\\text{ if } d = 1 \\\\\n",
        "  \\end{cases} \\\\\n",
        "  \\text{From } (r, n, m) \\text{ with player staying } & \\rightarrow (0,m,n-r) \\text{ with probability 1}\n",
        "\\end{align}\n",
        "\n",
        "The game will now start in state $(0, N_{max}, N_{max})$. Note that player's win when the distance to the **target score** is less than or equal to $0$. Therefore, the following states are terminal states:\n",
        "\n",
        "\\begin{align}\n",
        "  (0, 0, m), \\forall m > 0 &\\iff \\text{current player wins}\\\\\n",
        "  (0, n, 0), \\forall n > 0 &\\iff \\text{opponent wins}\\\\\n",
        "\\end{align}\n",
        "\n",
        "**Note:** The state $(0, 0, 0)$ will never be reached since both players can't win."
      ],
      "metadata": {
        "id": "3amgJm0Y-aOe"
      }
    },
    {
      "cell_type": "markdown",
      "source": [
        "## 1c Solution\n",
        "\n",
        "We will perform value iteration to find the optimal strategy for this game. First, we need to initialize the known values in our value function. The value function is the probability we will win if we play the optimal policy in any given state. So the only information we know is that we will win if we choose to stay when our runner position is greater than or equal to our distance from the target. So we can set these states to 1 in our value function. Then, we run the value iteration algorithm over the state space.\n",
        "\n",
        "If we choose to **roll again**, two things can happen. We either bust, or we advance. The value in the case that we bust is the probability that the opponent loses. By the symmetry described in part 1b, the probability that the opponent loses is $1 - V_{k-1}[0, m, n]$. If we do not bust, our runner will advance $2$ to $6$ squares each with probability $0.2$ (In code is described by a transition matrix). So our update equation for value iteration when we choose to **roll again** is:\n",
        "\n",
        "\\begin{align*}\n",
        "  Q_k[r, n, m, \\text{roll again}] = &\\frac{1}{6}(1-V_{k-1}[0, m, n]) + \\frac{5}{6}(\\sum_{i=2}^6\\frac{1}{5}V_{k-1}[r+i,n,m]) \\tag{1}\n",
        "\\end{align*}\n",
        "\n",
        "If we choose to **stay**. We either win, or we give the opponent a chance to advance, bust, or win. So the value when we stay is either $1$ when $r \\ge n$, or it is the probability the opponent loses given that we advanced our runner by $r$. That is $1-V_{k-1}[0, m, n-r]$. So our update equation for value iteration when we choose to **stay** is:\n",
        "\n",
        "\\begin{align*}\n",
        "  Q_k[r, n, m, \\text{stay}] =\n",
        "  \\begin{cases}\n",
        "    1 & \\text{ if $r \\ge n$} \\\\\n",
        "    1 - V_{k-1}[0, m, n - r] & \\text{ if $r < n$}\n",
        "  \\end{cases} \\tag{2}\n",
        "\\end{align*}\n",
        "\n",
        "Then we calculate the value function by choosing the maximum over the actions.\n",
        "\n",
        "\\begin{align*}\n",
        "  V_k[r,n,m] = \\max(Q_k[r, n, m, \\text{roll again}], Q_k[r, n, m, \\text{stay}]) \\tag{3}\n",
        "\\end{align*}\n",
        "\n",
        "As we run value iteration, the value function and Q function will approach the optimal policy.\n",
        "\n",
        "\\begin{align*}\n",
        "  \\lim_{k → ∞}Q_k[r,n,m,a] &= q_*[r,n,m,a] \\\\\n",
        "  \\lim_{k → ∞}V_k[r,n,m] &= v_*[r,n,m]\n",
        "\\end{align*}"
      ],
      "metadata": {
        "id": "Uk0il-YR-bto"
      }
    },
    {
      "cell_type": "code",
      "source": [
        "def visualizeMatrix(M): \n",
        "  '''Visualize a matrix as a plot including the scale'''\n",
        "  #Input:\n",
        "  # M = matrix to visualize\n",
        "  \n",
        "  fig = plt.figure()\n",
        "  ax = fig.add_subplot(111)\n",
        "  cax = ax.matshow(M, interpolation='nearest')\n",
        "  fig.colorbar(cax)\n",
        "\n",
        "  plt.show()"
      ],
      "metadata": {
        "id": "ED9HWjscJcR1"
      },
      "execution_count": null,
      "outputs": []
    },
    {
      "cell_type": "code",
      "source": [
        "def pig_matrix(N_max):\n",
        "  #Matrix of movement transition probabilities matrix\n",
        "  #Input:\n",
        "  # N_max = Maximum distance that a player can advance their runners in a single turn.\n",
        "  #Output:\n",
        "  # P = the pig matrix\n",
        "  #for the runner locations in PIG on a reroll\n",
        "  # -Assumes there is no bust (i.e. assuming you advance!)\n",
        "  # -Capped at N_max (so you can't exceed runners past N_max) for the pruposes of simulation\n",
        "  P = np.zeros((N_max+1,N_max+1))\n",
        "  i,j = np.indices(P.shape)\n",
        "  one_fifth = 1.0/5.0\n",
        "\n",
        "  # assign the advance probabilities along the diagonal\n",
        "  for k in np.arange(2,7):\n",
        "     P[i+k==j] = one_fifth\n",
        "\n",
        "  #Make the last column larger so that each row sums to 1\n",
        "  #This is effectively \"rounding down\" anything that goes over S_max \n",
        "  row_sums = np.sum(P,axis=1)\n",
        "  P[:,N_max] += 1-row_sums\n",
        "\n",
        "  return P\n",
        "\n",
        "def init_2_player_pig_value_func(N_max):\n",
        "  '''Initializes the 2 player PIG value function'''\n",
        "  #Input:\n",
        "  # N_max = Maximum distance that players can ever be from the finish line\n",
        "  #Output:\n",
        "  # q_stay = an array of shape N_max+1, N_max+1, N_max+1 with probability to win from a state if we choose to stay\n",
        "  # q_roll_again = an array of shape N_max+1, N_max+1, N_max+1 with probability to win from a state if we choose to roll again\n",
        "  # v_star  = an array of shape N_max+1, N_max+1, N_max+1 with probability to win from given state\n",
        "  # Note: The state space indexing is as following: [r, n, m]\n",
        "  #   r = how far the runner has advanced\n",
        "  #   n = distance remaining for the play\n",
        "  #   m = distance remaining for the opponent\n",
        "\n",
        "  # initialize all values to zero\n",
        "  q_stay = np.zeros((N_max+1, N_max+1, N_max+1))\n",
        "  q_roll_again = np.zeros(q_stay.shape)\n",
        "\n",
        "  r,n,m = np.indices(q_stay.shape)\n",
        "\n",
        "  # if the runner has more than or equal to the remaining squares\n",
        "  # we win if we choose stay\n",
        "  q_stay[r >= n] = 1\n",
        "\n",
        "  # choose action with maximum value\n",
        "  v_star = np.maximum(q_stay, q_roll_again)\n",
        "\n",
        "  return q_stay, q_roll_again, v_star\n",
        "\n",
        "def optimal_2_player_pig(N_max, n_iter=100):\n",
        "  '''Computes the optimal strategy in 2 player PIG for games up to size N_max'''\n",
        "  #Input: \n",
        "  #   N_max = Maximum distance that players can ever be from the finish line\n",
        "  #   n_iter = number of iterations, by default 100\n",
        "  #Output:\n",
        "  # v_star, roll_again\n",
        "  # v_star = An array of shape N_max,N_max,N_max with the probabability to win from a given position\n",
        "  # roll_again =An array of shape N_max,N_max,N_max with whether or not to roll again from a given position\n",
        "  # Note: The state space indexing is as following: [r, n, m]\n",
        "  #   r = how far the runner has advanced\n",
        "  #   n = distance remaining for the play\n",
        "  #   m = distance remaining for the opponent\n",
        "\n",
        "  # initialize value function, pig matrix, and bust probability\n",
        "  q_stay, q_roll_again, v_star = init_2_player_pig_value_func(N_max)\n",
        "  P = pig_matrix(N_max)\n",
        "  p_bust = 1.0/6.0\n",
        "  \n",
        "  # value iterate n_iter times\n",
        "  for i in np.arange(n_iter):\n",
        "    if i % int(n_iter/10) == 0:\n",
        "      print(\"iter # :\", i)\n",
        "    for n in np.arange(N_max+1):\n",
        "      for m in np.arange(N_max+1):\n",
        "\n",
        "        # the value when we bust is the value of the opponent losing\n",
        "        bust_value = 1-v_star[0,m,n]\n",
        "\n",
        "        # we update the value of roll again as in equation (1)\n",
        "        q_roll_again[:,n,m] = p_bust*bust_value + (1-p_bust)*np.einsum('i,si', v_star[:, n, m], P)\n",
        "\n",
        "        # we update the value of stay as in equation (2)\n",
        "        q_stay[:n, n, m] = 1 - v_star[0, m, n - np.arange(0,n)]\n",
        "\n",
        "        # choose maximum value between actions as in equation (3)\n",
        "        v_star[:, n, m] = np.maximum(q_stay[:, n, m], q_roll_again[:, n, m])\n",
        "\n",
        "  return v_star, q_roll_again > q_stay"
      ],
      "metadata": {
        "id": "c3bPt4Bx-jG1"
      },
      "execution_count": null,
      "outputs": []
    },
    {
      "cell_type": "markdown",
      "source": [
        "## Problem 1 - Tests and Notes\n",
        "Just some tests I ran while working on this problem and some observations."
      ],
      "metadata": {
        "id": "uJSB60D96TdO"
      }
    },
    {
      "cell_type": "code",
      "source": [
        "# tests to check if the value function makes sense\n",
        "def test_optimal_2_player_pig_value_function(v_star, N_max):\n",
        "  # The probability to win should always be strictly \n",
        "  # less as the opponent approaches the target.\n",
        "  # * except when n or m are 2 or 1, these should be the same.\n",
        "  for n in np.arange(N_max, 2, -1):\n",
        "    for m in np.arange(N_max, 2, -1):\n",
        "      for j in np.arange(m - 1, -1, -1):\n",
        "        assert(v_star[0, n, m] > v_star[0, n, j])\n",
        "\n",
        "  # when n = 2 it should be the same probability to win as when n = 1\n",
        "  # when m = 2 it should be the same probability to win as when m = 1\n",
        "  # regardless of the m or n respectively\n",
        "  assert(np.all(v_star[0, 2, :] == v_star[0, 1, :]))\n",
        "  assert(np.all(v_star[0, :, 2] == v_star[0, :, 1]))\n",
        "\n",
        "  # at the initial position the player who goes first should have a higher chance to win.\n",
        "  assert(v_star[0, N_max, N_max] > 0.50)\n",
        "\n",
        "  # if r >= n, we are guaranteed to win.\n",
        "  r,n,m = np.indices(v_star.shape)\n",
        "  assert(np.all(v_star[r >= n] == 1))\n",
        "\n",
        "  assert(np.all(v_star[r, n, m]))\n",
        "\n",
        "  print(\"All tests passed\")"
      ],
      "metadata": {
        "id": "HpZK3Pew827O"
      },
      "execution_count": null,
      "outputs": []
    },
    {
      "cell_type": "markdown",
      "source": [
        "With 100 iterations of value iteration and a target score of 100\n",
        "\n",
        "Some observations:\n",
        "* When both players have similar scores and are both far away from the target the optimal strategy is to play the **stop at 20 strategy**.\n",
        "* When the opponent is ahead the optimal strategy is more risky play.\n",
        "* When the opponent is behind the optimal strategy is to be more passive.\n",
        "* When both players are at the initial position, the player who goes first has a slightly higher chance to win, $P_{0, 100, 100} = 0.5308$.\n",
        "* When the opponent starts with a 4 point lead the game is almost fair, $P_{0, 100, 96} = 0.5015$.\n",
        "* When the opponent is 16 squares from the target, the player should roll until they win.\n",
        "* There is a wave that goes along the main diagonal - some of these states seem to be impossible to reach when playing the optimal strategy."
      ],
      "metadata": {
        "id": "-HfrFgVsa8j6"
      }
    },
    {
      "cell_type": "code",
      "source": [
        "# this will take about 50 seconds\n",
        "v_star, roll_again = optimal_2_player_pig(100, 100)"
      ],
      "metadata": {
        "id": "yr-W4pAZH0IF",
        "colab": {
          "base_uri": "https://localhost:8080/"
        },
        "outputId": "46b41332-70d0-4db0-897d-1ee76962d663"
      },
      "execution_count": null,
      "outputs": [
        {
          "output_type": "stream",
          "name": "stdout",
          "text": [
            "iter # : 0\n",
            "iter # : 10\n",
            "iter # : 20\n",
            "iter # : 30\n",
            "iter # : 40\n",
            "iter # : 50\n",
            "iter # : 60\n",
            "iter # : 70\n",
            "iter # : 80\n",
            "iter # : 90\n"
          ]
        }
      ]
    },
    {
      "cell_type": "code",
      "source": [
        "# this works given that N_max = 100 and n_iter = 100\n",
        "\n",
        "print(\"Probability to win at initial position: \", v_star[0, 100, 100])\n",
        "print(\"Probability to win when opponent has a 4 point lead: \", v_star[0, 100, 96])\n",
        "\n",
        "print(\"\\nPlot of the roll again matrix when the opponent is at 100\")\n",
        "visualizeMatrix(roll_again[:, :, 100])\n",
        "\n",
        "print(\"Plot of the roll again matrix when the opponent is at 50\")\n",
        "visualizeMatrix(roll_again[:, :, 50])\n",
        "\n",
        "print(\"Plot of the roll again matrix when the opponent is at 16\")\n",
        "visualizeMatrix(roll_again[:, :, 16])\n",
        "\n",
        "test_optimal_2_player_pig_value_function(v_star, 100)"
      ],
      "metadata": {
        "colab": {
          "base_uri": "https://localhost:8080/",
          "height": 905
        },
        "id": "-qf9ePB6_tuv",
        "outputId": "1ecb6d44-7bba-45d2-8e1f-824d6a1e768c"
      },
      "execution_count": null,
      "outputs": [
        {
          "output_type": "stream",
          "name": "stdout",
          "text": [
            "Probability to win at initial position:  0.5308243426397838\n",
            "Probability to win when opponent has a 4 point lead:  0.5014523989563842\n",
            "\n",
            "Plot of the roll again matrix when the opponent is at 100\n"
          ]
        },
        {
          "output_type": "display_data",
          "data": {
            "text/plain": [
              "<Figure size 432x288 with 2 Axes>"
            ],
            "image/png": "[encoded data removed]"
          },
          "metadata": {
            "needs_background": "light"
          }
        },
        {
          "output_type": "stream",
          "name": "stdout",
          "text": [
            "Plot of the roll again matrix when the opponent is at 50\n"
          ]
        },
        {
          "output_type": "display_data",
          "data": {
            "text/plain": [
              "<Figure size 432x288 with 2 Axes>"
            ],
            "image/png": "[encoded data removed]"
          },
          "metadata": {
            "needs_background": "light"
          }
        },
        {
          "output_type": "stream",
          "name": "stdout",
          "text": [
            "Plot of the roll again matrix when the opponent is at 16\n"
          ]
        },
        {
          "output_type": "display_data",
          "data": {
            "text/plain": [
              "<Figure size 432x288 with 2 Axes>"
            ],
            "image/png": "[encoded data removed]"
          },
          "metadata": {
            "needs_background": "light"
          }
        },
        {
          "output_type": "stream",
          "name": "stdout",
          "text": [
            "All tests passed\n"
          ]
        }
      ]
    },
    {
      "cell_type": "markdown",
      "source": [
        "# Problem 2 - Playing PIG against the enemy"
      ],
      "metadata": {
        "id": "bm3Z_F1UxkV3"
      }
    },
    {
      "cell_type": "markdown",
      "source": [
        "## 2a Solution\n"
      ],
      "metadata": {
        "id": "R98KdkDkxv9a"
      }
    },
    {
      "cell_type": "markdown",
      "source": [
        "Here we will use SARSA to determine the optimal policy against a given opponent. SARSA is an *on-policy* learning algorithm, meaning it updates a policy based on an action taken. So, we need to have a model of the environment that takes in a state and an action and gives us back a new state. \n",
        "\n",
        "The states are in the form $(r, p_1, p_2)$ where $r$ is the position of the runner, $p_1$ is the distance that the player is away from the target, and $p_2$ is the distance that the opponent is away from the target.\n",
        "\n",
        "We have two actions that we can perform **Roll again** and **Stay**. If we perform an action that causes our turn to end, we will simulate the opponent turn immediately so that when we are given a new state it is always our turn.\n",
        "\n",
        "**Case 1:** If we choose action **stay** and the current state is $(r, p_1, p_2)$ we go to the state $(0, p_1 - r, l)$. Note that we need to restrict $p_1 - r$ so that it is never negative. Where $l$ is the new distance that the enemy is away from the target after their turn.\n",
        "\n",
        "**Case 2:** If we choose action **roll again**, and the current state is $(r, p_1, p_2)$. We either *bust* ($p = \\frac{1}{6}$), or we *advance our runner* ($p = \\frac{5}{6}$). If we *bust*, we go to the state $(0, p_1, l)$, where $l$ is defined in the same way as in **case 1**. If we *advance our runner*, we go to the state $(r + d, p_1, p_2)$ where $d\\in[2,6]$. Note that $r+d$ needs to be restricted so that it will never be greater than the maximum distance from the target.\n",
        "\n",
        "To choose the action we use an $ɛ$-greedy method. Where we choose a random action with probability $ɛ$, and we choose the current best possible action with probability $1 - ɛ$.\n",
        "\n",
        "Using our model of the environment and $ɛ$-greedy action selection, we can perform the SARSA algorithm to find the optimal policy. With the following update rule\n",
        "\n",
        "\\begin{align}\n",
        "  Q[s, a] = Q[s, a] + \\alpha(Q[s',a'] - Q[s, a]) \\tag{1}\n",
        "\\end{align}\n",
        "\n",
        "Where $Q$ is the probability we win if we choose a given state and action, $s$ is the current state, $a$ is the current action, $s'$ is the next state, $a'$ is the next action, and $\\alpha$ is the learning rate.\n",
        "\n",
        "Once we are done calculating the $Q$ function we can find the value function $v$ by maximizing $Q$ over the possible actions.\n",
        "\n",
        "\\begin{align}\n",
        "  v[s] = max_{a\\in\\mathcal{A}}(Q[s, a]) \\tag{2}\n",
        "\\end{align}\n",
        "\n",
        "And we can find the optimal policy by choosing the argmax of $Q$ over the possible actions.\n",
        "\n",
        "\\begin{align}\n",
        "  a[s] = argmax_{a\\in\\mathcal{A}}(Q[s, a]) \\tag{3}\n",
        "\\end{align}\n",
        "\n",
        "In code we will instead use a boolean array, where it is True if we roll again, but this is essentially the same thing.\n"
      ],
      "metadata": {
        "id": "jhZ03er2GsUa"
      }
    },
    {
      "cell_type": "markdown",
      "source": [
        "Enemy AI's"
      ],
      "metadata": {
        "id": "ZHOJcOT9B0na"
      }
    },
    {
      "cell_type": "code",
      "source": [
        "def timid_enemy(hero_squares_remaining, enemy_squares_remaining):\n",
        "  '''AI that rolls exactly one and always stays'''\n",
        "  #Input: Squares remaining for the heror and the enemy\n",
        "  #Output: A random number that is \\leq enemy_square_remaining indicating the squares remaining for the enemy after their turn\n",
        "\n",
        "  dice_roll = np.random.randint(1,7)\n",
        "  \n",
        "  if dice_roll == 1:\n",
        "    #Enemy busted! They do not advance\n",
        "    return enemy_squares_remaining\n",
        "  else:\n",
        "    #If they don't bust they advance by the amount on the dice\n",
        "    #If this would advance them past the finish line, they just go to 0 square remaining\n",
        "    return np.maximum(0, enemy_squares_remaining - dice_roll)\n",
        "\n",
        "def roll_20_ai(hero_squares_remaining, enemy_squares_remaining):\n",
        "  '''Simulates a Pig AI that wil roll until 20 and then stay'''\n",
        "  #Input:\n",
        "  # hero_squares_remaining = the number of squares remaining for the player\n",
        "  # enemy_squares_remaining = the number of squares remaining for the opponent\n",
        "  #Output:\n",
        "  # the new number of squares remaining for the opponent after their turn\n",
        "  runner_position = 0\n",
        "\n",
        "  # loop until enemy runner position is >= 20, >= enemy_squares_emaining, or bust.\n",
        "  while runner_position < 20:\n",
        "    dice_roll = np.random.randint(1,7)\n",
        "    if dice_roll == 1:\n",
        "      # enemy busts\n",
        "      return enemy_squares_remaining\n",
        "    else:\n",
        "      runner_position = runner_position + dice_roll\n",
        "\n",
        "    # stay when our runner is past or at the total number of squares remaining\n",
        "    if runner_position >= enemy_squares_remaining:\n",
        "      return 0\n",
        "\n",
        "  # we cannot be a negative distance away from the target\n",
        "  return np.maximum(0, enemy_squares_remaining - runner_position)\n",
        "\n",
        "def roll_turn_ai(hero_squares_remaining, enemy_squares_remaining):\n",
        "  '''This AI will make this game similar to the 'win in t turns' game'''\n",
        "  #Input:\n",
        "  # hero_squares_remaining = the number of squares remaining for the player\n",
        "  # enemy_squares_remaining = the number of squares remaining for the opponent\n",
        "  #Output:\n",
        "  # the new number of squares remaining for the opponent after their turn\n",
        "  #NOTE: In the case of the 'win in t turns' game we were allowed to finish our turn\n",
        "  #      when there are 0 turns remaining, in this case when enemy_squares remaining\n",
        "  #      is 0, we immediately lose. Therefore, this is off by 1 square.\n",
        "  return enemy_squares_remaining - 1\n",
        "\n",
        "def win_immediately_ai(hero_squares_remaining, enemy_squares_remaining):\n",
        "  '''This AI will always win the game immediately when it makes it to their turn!'''\n",
        "  #Input:\n",
        "  # hero_squares_remaining = the number of squares remaining for the player\n",
        "  # enemy_squares_remaining = the number of squares remaining for the opponent\n",
        "  #Output:\n",
        "  # the new number of squares remaining for the opponent after their turn\n",
        "  #\n",
        "  #NOTE: The optimal policy in this situation is very obvious.. always roll until\n",
        "  #      the player wins.\n",
        "\n",
        "  return 0"
      ],
      "metadata": {
        "id": "waH-ui6dB2PN"
      },
      "execution_count": null,
      "outputs": []
    },
    {
      "cell_type": "code",
      "source": [
        "# some constants for convenience\n",
        "ROLL_AGAIN = 0\n",
        "STAY = 1\n",
        "\n",
        "def pig_choose_action_e_greedy(state, q_star, epsilon=0.10):\n",
        "  '''Given a state, Q-function, and epsilon this will return an epsilon-greedy action'''\n",
        "  #Input:\n",
        "  #  state = a game state in the form (r, p1, p2) where\n",
        "  #         - r is the current runner location\n",
        "  #         - p1 is the players distance from the target\n",
        "  #         - p2 is the opponents distnace from the target\n",
        "  #  q_star = the Q-function for the game\n",
        "  #  epsilon (optional) = this is the probability that we choose an action at random \n",
        "  r,p1,p2 = state\n",
        "\n",
        "  # we are guaranteed to win so we should stay\n",
        "  if r >= p1:\n",
        "    return STAY\n",
        "\n",
        "  # determine if we should choose action greedy, or randomly\n",
        "  probability_epsilon_event = (np.random.random() < epsilon)\n",
        "\n",
        "  if probability_epsilon_event:\n",
        "    # explore actions\n",
        "    return np.random.randint(0, 2) \n",
        "  else:\n",
        "    # exploit best action\n",
        "    return ROLL_AGAIN if q_star[r, p1, p2, ROLL_AGAIN] >= q_star[r, p1, p2, STAY] else STAY\n",
        "\n",
        "def pig_next_state(state, action, enemy_AI, N_max):\n",
        "  '''Given a state, action, enemy AI, and the max score, this function will return a new state'''\n",
        "  #Input:\n",
        "  #  state = a game state in the form (r, p1, p2) where\n",
        "  #         - r is the current runner location\n",
        "  #         - p1 is the players distance from the target\n",
        "  #         - p2 is the opponents distnace from the target\n",
        "  #  action = the action to perform (0 = ROLL_AGAIN, 1 = STAY)\n",
        "  #  enemy_AI = a function that controls what the opponent will do in the \n",
        "  #             case that we bust or stay.\n",
        "  #  N_max = the maximum distance away from the target score.\n",
        "\n",
        "  # unpack state into separate variables for readability\n",
        "  r, p1, p2 = state\n",
        "\n",
        "  if action == STAY:\n",
        "    # in the case that we stay, we subtract our runner position from our distance from\n",
        "    # the target, reset the runners position, and simulate the opponents turn\n",
        "    p1 = np.maximum(0, p1 - r)\n",
        "    r = 0\n",
        "    if (p1 > 0):\n",
        "      # simulate opponents turn\n",
        "      p2 = enemy_AI(p1, p2)\n",
        "  else:\n",
        "    # in the case that we roll again, we roll the dice. if we bust, reset the runners position\n",
        "    # and simulate the opponents turn, otherwise we add our dice roll to our runners position\n",
        "    dice_roll = np.random.randint(1,7)\n",
        "\n",
        "    if dice_roll == 1:\n",
        "      r = 0\n",
        "      # simulate opponents turn\n",
        "      p2 = enemy_AI(p1, p2)\n",
        "    else:\n",
        "      # the runner position cannot exceed N_max\n",
        "      r = np.minimum(N_max, r + dice_roll)\n",
        "      \n",
        "  # pack state into tuple\n",
        "  return (r, p1, p2)"
      ],
      "metadata": {
        "id": "8CB6FYEoAMxJ"
      },
      "execution_count": null,
      "outputs": []
    },
    {
      "cell_type": "code",
      "source": [
        "def optimal_strategy_against_enemy(enemy_outcome, N_max, N_episodes=500000):\n",
        "  '''Computes the optimal strategy in 2 player PIG for games up to size N_max'''\n",
        "  #Input: \n",
        "  #  enemy_outcome = A function that simulates the enemies strategy\n",
        "  #                   (See timit_enemy for an example)\n",
        "  #  N_max = Maximum distance that players can ever be from the finish line\n",
        "  #Output:\n",
        "  #  v_star = An array of shape (N_max+1, N_max+1, N_max+1) with the probabability to win from a given state\n",
        "  #  roll_again = An array of shape (N_max+1, N_max+1, N_max+1) with whether or not to roll again in a given state\n",
        "  #Note:\n",
        "  # The format of the states is a tuple, (r p1, p2) where\n",
        "  #        - r is the current runner location\n",
        "  #        - p1 is the players distance from the target\n",
        "  #        - p2 is the opponents distnace from the target\n",
        "\n",
        "  # initialize our value function an q star\n",
        "  v_star = np.zeros((N_max+1,N_max+1,N_max+1))\n",
        "  q_star = np.zeros((N_max+1, N_max+1, N_max+1, 2))\n",
        "  r,p1,p2,a = np.indices((N_max+1, N_max+1, N_max+1, 2))\n",
        "\n",
        "  # hardcode end target reward\n",
        "  q_star[np.logical_and(p1 <= r, a == STAY)] = 1\n",
        "\n",
        "  # simulate the game and perform SARSA over N_episodes\n",
        "  for episode in np.arange(N_episodes):\n",
        "    if episode % int(N_episodes/10) == 0:\n",
        "      print(\"Iteration number: \", episode)\n",
        "\n",
        "    # i have spent a lot of time trying to find\n",
        "    # a learning rate and epsilon that work well\n",
        "    # i think these are pretty good, but definitely\n",
        "    # not optimal.\n",
        "    learning_rate = 0.4/np.log(episode+2)\n",
        "    epsilon=100/np.sqrt(episode+1)\n",
        "\n",
        "    # initial state is random so that we hit all states.\n",
        "    # if it was (0, N_max, N_max) some states are impossible to reach.\n",
        "    # i also make sure r < p1 in the initial state (when r >= p1 we already know the optimal action)\n",
        "    rand_r = np.random.randint(0, N_max)\n",
        "    current_state = (rand_r, np.random.randint(rand_r+1, N_max+1), np.random.randint(1, N_max+1))\n",
        "    \n",
        "    # we have terminal states when the either player reaches the target (ie. squares remaining = 0)\n",
        "    while current_state[1] != 0 and current_state[2] != 0:\n",
        "      current_action = pig_choose_action_e_greedy(current_state, q_star, epsilon)\n",
        "      next_state = pig_next_state(current_state, current_action, enemy_outcome, N_max)\n",
        "      next_action = pig_choose_action_e_greedy(next_state, q_star, epsilon)\n",
        "\n",
        "      # update Q function as in (1)\n",
        "      q_star[current_state][current_action] += learning_rate*(q_star[next_state][next_action] - q_star[current_state][current_action])\n",
        "\n",
        "      current_state = next_state\n",
        "\n",
        "  # choose v_star as the max of q_stay over the possible actions as in (2)\n",
        "  v_star = np.maximum(q_star[:, :, :, ROLL_AGAIN], q_star[:, :, :, STAY])\n",
        "\n",
        "  # return v_star and find a_star as in (3)\n",
        "  return v_star, q_star[:, :, :, ROLL_AGAIN] > q_star[:, :, :, STAY]"
      ],
      "metadata": {
        "id": "QYFmiaHUAntp"
      },
      "execution_count": null,
      "outputs": []
    },
    {
      "cell_type": "markdown",
      "source": [
        "## 2b Solution\n"
      ],
      "metadata": {
        "id": "_HndY1SNynyP"
      }
    },
    {
      "cell_type": "markdown",
      "source": [
        "The meaning of optimal is different in the case of problem 1 and problem 2. In problem 1, when both player are playing optimally they are both are playing under the same policy. However, in problem 2, this won't work. This is because the opponent is not necessarily playing the same strategy as you! Optimal in the case of problem 2 means that we are maximizing the probability that we win against a given AI."
      ],
      "metadata": {
        "id": "nV0sgHoUDQUg"
      }
    },
    {
      "cell_type": "markdown",
      "source": [
        "# Problem 2 - Tests and Notes\n",
        "\n",
        "**Note:** I think that this is working. However, I don't think that my epsilon or learning rate is chosen optimally. I have tried many different options but I havn't found one that I am very happy with."
      ],
      "metadata": {
        "id": "LC6Q5AdlLa7q"
      }
    },
    {
      "cell_type": "code",
      "source": [
        "def test_win_immediately_ai():\n",
        "  '''Finds optimal policy versus win immediately ai and tests a few states'''\n",
        "  #Output:\n",
        "  # v_star - the probability to win in a given state\n",
        "  # roll_again - 3d array boolean array that tells us if we should roll again in any given state\n",
        "\n",
        "  # calculate v_star and roll_again against the win_immediately_ai\n",
        "  v_star, roll_again = optimal_strategy_against_enemy(win_immediately_ai, 10, N_episodes=100000)\n",
        "  r,p1,p2 = np.indices(v_star.shape)\n",
        "\n",
        "  # test that we always roll again if r < p1 and we havn't lost yet.\n",
        "  assert(np.any(roll_again[np.logical_and(r < p1, p2 != 0)] == True))\n",
        "\n",
        "  # test that we always stay if r >= p1\n",
        "  assert(np.any(roll_again[r >= p1] == False))\n",
        "\n",
        "  # if we made it this far the tests must have passed\n",
        "  print(\"Tests passed!\")\n",
        "\n",
        "  return v_star, roll_again\n",
        "\n",
        "def test_roll_turn_ai():\n",
        "  '''Finds optimal policy versus roll again ai and tests a few states'''\n",
        "  #Output:\n",
        "  # v_star - the probability to win in a given state\n",
        "  # roll_again - 3d array boolean array that tells us if we should roll again in any given state\n",
        "  \n",
        "  #calculate v_star and roll_again against the roll_turn_ai\n",
        "  v_star, roll_again = optimal_strategy_against_enemy(roll_turn_ai, 10, N_episodes=1000000)\n",
        "  r, p1, p2 = np.indices(v_star.shape)\n",
        "\n",
        "  # test that we always stay if r >= p1\n",
        "  assert(np.any(roll_again[r >= p1] == False))\n",
        "  assert(np.any(roll_again[np.logical_and(r < p1, p2 == 1)] == True))\n",
        "\n",
        "  print(\"Tests passed!\")\n",
        "\n",
        "  return v_star, roll_again"
      ],
      "metadata": {
        "id": "lHAoQYMUf6Sd"
      },
      "execution_count": null,
      "outputs": []
    },
    {
      "cell_type": "markdown",
      "source": [
        "## Win Immediately AI\n",
        "In the win_immediately_ai, the opponent will win immediately if we choose to stay. Therefore the optimal policy is very obvious... roll until we win. Here, the optimal policy, **roll_again**, makes sense. It says to always **stay** when $r \\ge p1$ and **roll again** when $r \\lt p1$ and $p2 \\neq 0$ ."
      ],
      "metadata": {
        "id": "Lgeo1hmWgGYJ"
      }
    },
    {
      "cell_type": "code",
      "source": [
        "v_star, roll_again = test_win_immediately_ai()"
      ],
      "metadata": {
        "colab": {
          "base_uri": "https://localhost:8080/"
        },
        "id": "uKYtQXX_iyGK",
        "outputId": "aea5df8e-f5c1-4a9a-a7f7-10c173c60e3b"
      },
      "execution_count": null,
      "outputs": [
        {
          "output_type": "stream",
          "name": "stdout",
          "text": [
            "Iteration number:  0\n",
            "Iteration number:  10000\n",
            "Iteration number:  20000\n",
            "Iteration number:  30000\n",
            "Iteration number:  40000\n",
            "Iteration number:  50000\n",
            "Iteration number:  60000\n",
            "Iteration number:  70000\n",
            "Iteration number:  80000\n",
            "Iteration number:  90000\n",
            "Tests passed!\n"
          ]
        }
      ]
    },
    {
      "cell_type": "markdown",
      "source": [
        "## Turns AI\n",
        "In the turns AI, the opponent always subtracts $1$ from their score on their turn. Therefore, this simulates the *win in n turns* AI from previously in the class. \n",
        "\n",
        "The optimal policy should be similar to the optimal policy we found using value iteration. It will eventually converge to this policy but because we are only doing finite number of iterations it will not be exact."
      ],
      "metadata": {
        "id": "2CH-zbYvkBaJ"
      }
    },
    {
      "cell_type": "code",
      "source": [
        "# WARNING: This does 1,000,000 iterations and will take about 45 seconds to run\n",
        "v_star, roll_again = test_roll_turn_ai()"
      ],
      "metadata": {
        "colab": {
          "base_uri": "https://localhost:8080/"
        },
        "id": "q46wjkrdi7_l",
        "outputId": "25c8ea6d-5a31-4be7-b964-a2cb29aeec75"
      },
      "execution_count": null,
      "outputs": [
        {
          "output_type": "stream",
          "name": "stdout",
          "text": [
            "Iteration number:  0\n",
            "Iteration number:  100000\n",
            "Iteration number:  200000\n",
            "Iteration number:  300000\n",
            "Iteration number:  400000\n",
            "Iteration number:  500000\n",
            "Iteration number:  600000\n",
            "Iteration number:  700000\n",
            "Iteration number:  800000\n",
            "Iteration number:  900000\n",
            "Tests passed!\n"
          ]
        }
      ]
    },
    {
      "cell_type": "code",
      "source": [
        "# when we have 1 turn left, we should try to win\n",
        "print(\"Roll again matrix when opponent is 1 squares away from target\")\n",
        "visualizeMatrix(roll_again[:,:,1])\n",
        "\n",
        "# we should play more aggressive when the opponent\n",
        "# is closer to the target\n",
        "print(\"Roll again matrix when opponent is 3 squares away from target\")\n",
        "visualizeMatrix(roll_again[:,:,3])\n",
        "\n",
        "# we should play more passive when the opponent\n",
        "# is further from the target\n",
        "print(\"Roll again matrix when opponent is 5 squares away from target\")\n",
        "visualizeMatrix(roll_again[:,:,5])\n",
        "print(\"Roll again matrix when opponent is 9 squares away from target\")\n",
        "visualizeMatrix(roll_again[:,:,9])\n",
        "\n",
        "# the probability to win is very high (> .90) for almost\n",
        "# every state, except for when the opponent is 1 square\n",
        "# away from the target. (We have 1 turn to win)\n",
        "print(\"v_star matrix when opponent is 1 square away from target\")\n",
        "visualizeMatrix(v_star[:,:,1])\n",
        "print(\"v_star matrix when opponent is 6 square away from target\")\n",
        "visualizeMatrix(v_star[:,:,6])"
      ],
      "metadata": {
        "colab": {
          "base_uri": "https://localhost:8080/",
          "height": 1000
        },
        "id": "RgXdQeOUk55h",
        "outputId": "c5f2936a-b084-41de-c476-1c8165af16ea"
      },
      "execution_count": null,
      "outputs": [
        {
          "output_type": "stream",
          "name": "stdout",
          "text": [
            "Roll again matrix when opponent is 1 squares away from target\n"
          ]
        },
        {
          "output_type": "display_data",
          "data": {
            "text/plain": [
              "<Figure size 432x288 with 2 Axes>"
            ],
            "image/png": "[encoded data removed]"
          },
          "metadata": {
            "needs_background": "light"
          }
        },
        {
          "output_type": "stream",
          "name": "stdout",
          "text": [
            "Roll again matrix when opponent is 3 squares away from target\n"
          ]
        },
        {
          "output_type": "display_data",
          "data": {
            "text/plain": [
              "<Figure size 432x288 with 2 Axes>"
            ],
            "image/png": "[encoded data removed]"
          },
          "metadata": {
            "needs_background": "light"
          }
        },
        {
          "output_type": "stream",
          "name": "stdout",
          "text": [
            "Roll again matrix when opponent is 5 squares away from target\n"
          ]
        },
        {
          "output_type": "display_data",
          "data": {
            "text/plain": [
              "<Figure size 432x288 with 2 Axes>"
            ],
            "image/png": "[encoded data removed]"
          },
          "metadata": {
            "needs_background": "light"
          }
        },
        {
          "output_type": "stream",
          "name": "stdout",
          "text": [
            "Roll again matrix when opponent is 9 squares away from target\n"
          ]
        },
        {
          "output_type": "display_data",
          "data": {
            "text/plain": [
              "<Figure size 432x288 with 2 Axes>"
            ],
            "image/png": "[encoded data removed]"
          },
          "metadata": {
            "needs_background": "light"
          }
        },
        {
          "output_type": "stream",
          "name": "stdout",
          "text": [
            "v_star matrix when opponent is 1 square away from target\n"
          ]
        },
        {
          "output_type": "display_data",
          "data": {
            "text/plain": [
              "<Figure size 432x288 with 2 Axes>"
            ],
            "image/png": "[encoded data removed]"
          },
          "metadata": {
            "needs_background": "light"
          }
        },
        {
          "output_type": "stream",
          "name": "stdout",
          "text": [
            "v_star matrix when opponent is 6 square away from target\n"
          ]
        },
        {
          "output_type": "display_data",
          "data": {
            "text/plain": [
              "<Figure size 432x288 with 2 Axes>"
            ],
            "image/png": "[encoded data removed]"
          },
          "metadata": {
            "needs_background": "light"
          }
        }
      ]
    },
    {
      "cell_type": "code",
      "source": [
        "v_star, roll_again = optimal_strategy_against_enemy(timid_enemy, 10, N_episodes=300000)"
      ],
      "metadata": {
        "colab": {
          "base_uri": "https://localhost:8080/"
        },
        "id": "8iYwrw92U_cx",
        "outputId": "150eb75f-a05d-4af3-8510-1f22da8ff498"
      },
      "execution_count": null,
      "outputs": [
        {
          "output_type": "stream",
          "name": "stdout",
          "text": [
            "Iteration number:  0\n",
            "Iteration number:  30000\n",
            "Iteration number:  60000\n",
            "Iteration number:  90000\n",
            "Iteration number:  120000\n",
            "Iteration number:  150000\n",
            "Iteration number:  180000\n",
            "Iteration number:  210000\n",
            "Iteration number:  240000\n",
            "Iteration number:  270000\n"
          ]
        }
      ]
    },
    {
      "cell_type": "code",
      "source": [
        "visualizeMatrix(roll_again[:,:,9])\n",
        "visualizeMatrix(v_star[:,:,5])"
      ],
      "metadata": {
        "colab": {
          "base_uri": "https://localhost:8080/",
          "height": 523
        },
        "id": "0jFx_iOYVXy_",
        "outputId": "13b3d654-8b0b-48de-e01c-35d4da1c1404"
      },
      "execution_count": null,
      "outputs": [
        {
          "output_type": "display_data",
          "data": {
            "image/png": "[encoded data removed]",
            "text/plain": [
              "<Figure size 432x288 with 2 Axes>"
            ]
          },
          "metadata": {
            "needs_background": "light"
          }
        },
        {
          "output_type": "display_data",
          "data": {
            "image/png": "[encoded data removed]",
            "text/plain": [
              "<Figure size 432x288 with 2 Axes>"
            ]
          },
          "metadata": {
            "needs_background": "light"
          }
        }
      ]
    }
  ]
}